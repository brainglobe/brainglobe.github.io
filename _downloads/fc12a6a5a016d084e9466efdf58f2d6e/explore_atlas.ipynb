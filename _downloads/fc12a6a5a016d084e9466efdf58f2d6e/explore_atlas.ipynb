{
  "cells": [
    {
      "cell_type": "markdown",
      "metadata": {},
      "source": [
        "\n# Interacting with cloud atlas data through Python\n\nThis example demonstrates how to calculate the volume of the retrosplenial area in the\nAllen mouse brain atlas at 25um resolution. It does so avoiding use of BrainGlobe tools,\nand using minimal other dependencies. It is intended to showcase the use of atlas data\ndirectly.\n"
      ]
    },
    {
      "cell_type": "markdown",
      "metadata": {},
      "source": [
        "This tutorial will guide through the steps needed to extract the volume of the retrosplenial area (RSP)\nin the Allen Mouse Brain Atlas, programmatically - but without using BrainGlobe. To do this, we \nneed some preliminary knowledge about how BrainGlobe atlases such as this are structured under the hood:\n\n- the annotation image is stored in a zipped [zarr](https://zarr.dev/) array.\n- the region metadata (e.g. each region's id, name, acronym and parent) are stored in a comma separated (csv) file\n- these files (and other atlas files, like the template) are stored on AWS\n\nTo compute the volume of RSP we will therefore\n\n- download the structures file\n- determine the id of the RSP region and all its children from the structures file\n- download the annotation file\n- count how many pixels in the annotation file correspond to any of the ids\n- convert the pixels to cubic millimeters\n\nNow the conceptual part is covered, let's dive into the code:\n\nWe start by importing some Python libraries that we will need \n\n"
      ]
    },
    {
      "cell_type": "code",
      "execution_count": null,
      "metadata": {
        "collapsed": false
      },
      "outputs": [],
      "source": [
        "import pooch\nimport numpy as np\nimport zarr\nfrom pathlib import Path"
      ]
    },
    {
      "cell_type": "markdown",
      "metadata": {},
      "source": [
        "Next, we download the structures file using `pooch`\n\n"
      ]
    },
    {
      "cell_type": "code",
      "execution_count": null,
      "metadata": {
        "collapsed": false
      },
      "outputs": [],
      "source": [
        "atlas_url = \"https://gin.g-node.org/BrainGlobe/atlases-v2/raw/master/annotations/allen_mouse_v1/\"\nstructures_file = \"structures.csv\"\n\ncsv_path = pooch.retrieve(\n    url=atlas_url+\"/\"+structures_file,\n    known_hash=\"a04e9f6656c98bcd6d9d4c0ba2bd0ef927cf5cb97658ded9cda8237ad4575ff2\",\n    path=pooch.os_cache(\"brainglobe_atlases\")\n)"
      ]
    },
    {
      "cell_type": "markdown",
      "metadata": {},
      "source": [
        "By printing the rows, we can observe that the structures file contains one row per region, with the first column (index 0) containing the region acronym, and the second column (index 1) containing the region ID:\n\n"
      ]
    },
    {
      "cell_type": "code",
      "execution_count": null,
      "metadata": {
        "collapsed": false
      },
      "outputs": [],
      "source": [
        "with open(csv_path) as file:\n    for i, row in enumerate(file):\n        if i >= 10:\n            break\n        print(row)"
      ]
    },
    {
      "cell_type": "markdown",
      "metadata": {},
      "source": [
        "We know that all child regions of RSP have a name starting with \"RSP\", which we can use to identify our IDs of interest\nand store them in a list called `rsp_ids`.\n\n"
      ]
    },
    {
      "cell_type": "code",
      "execution_count": null,
      "metadata": {
        "collapsed": false
      },
      "outputs": [],
      "source": [
        "rsp_ids = []\n\nwith open(csv_path) as file:\n    for row in file:\n        entries = row.split(\",\")\n        if entries[0].startswith(\"RSP\"):\n            rsp_ids.append(int(entries[1]))"
      ]
    },
    {
      "cell_type": "markdown",
      "metadata": {},
      "source": [
        "Equipped with this information, we can now download the annotations file for the atlas.\nAnnotation files are stored in zipped zarr files in the cloud.\n\n"
      ]
    },
    {
      "cell_type": "code",
      "execution_count": null,
      "metadata": {
        "collapsed": false
      },
      "outputs": [],
      "source": [
        "ZARR_ANNOTATIONS_FILENAME = \"25um.zarr.zip\"\nzarr_path = pooch.retrieve(\n    url=atlas_url+\"/\"+ZARR_ANNOTATIONS_FILENAME,\n    known_hash=\"4a28ba2b3f25cea9c7d2c944ab42014c9f09aaef3bb32f14b9fcccc536a6140f\",\n    processor=pooch.Unzip(),\n    path=pooch.os_cache(\"brainglobe_atlases\")\n)\n\nprint(zarr_path)"
      ]
    },
    {
      "cell_type": "markdown",
      "metadata": {},
      "source": [
        "After downloading and unzipping, we can open the zarr folder, which contains a single zarr array.\n\n"
      ]
    },
    {
      "cell_type": "code",
      "execution_count": null,
      "metadata": {
        "collapsed": false
      },
      "outputs": [],
      "source": [
        "zarr_array = zarr.open(Path(zarr_path[0]).parent, mode=\"r\")\n\nprint(zarr_array)"
      ]
    },
    {
      "cell_type": "markdown",
      "metadata": {},
      "source": [
        "Combining the annotation data with our RSP IDs allows us to calculate the volume of the RSP,\nwhich we finally print. This reaches the goal of this tutorial.\n\n"
      ]
    },
    {
      "cell_type": "code",
      "execution_count": null,
      "metadata": {
        "collapsed": false
      },
      "outputs": [],
      "source": [
        "num_pixels = np.isin(zarr_array[:], rsp_ids).sum()\npixel_volume = 25*25*25\ncubic_microns_to_cubic_millimeters = 1.0/1000**3\n\nprint(f\"RSP has volume of around {np.round(num_pixels*pixel_volume*cubic_microns_to_cubic_millimeters)} cubic millimeters\")"
      ]
    },
    {
      "cell_type": "markdown",
      "metadata": {},
      "source": [
        "In conclusion, this tutorial shows how to programmatically access and process atlas data for \nthe specific purpose of calculating a region volume. More generally, it also constitutes an example for\nBrainGlobe atlas data being used independently of the BrainGlobe software tools.\n\n"
      ]
    }
  ],
  "metadata": {
    "kernelspec": {
      "display_name": "Python 3",
      "language": "python",
      "name": "python3"
    },
    "language_info": {
      "codemirror_mode": {
        "name": "ipython",
        "version": 3
      },
      "file_extension": ".py",
      "mimetype": "text/x-python",
      "name": "python",
      "nbconvert_exporter": "python",
      "pygments_lexer": "ipython3",
      "version": "3.12.12"
    }
  },
  "nbformat": 4,
  "nbformat_minor": 0
}