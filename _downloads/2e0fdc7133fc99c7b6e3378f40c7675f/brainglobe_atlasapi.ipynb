{
  "cells": [
    {
      "cell_type": "markdown",
      "metadata": {},
      "source": [
        "\n# BrainGlobe Atlas API\nUsing the BrainGlobe Atlas API to fetch and inspect an atlas\n"
      ]
    },
    {
      "cell_type": "markdown",
      "metadata": {},
      "source": [
        "## Import the Atlas API and find an atlas\n\n"
      ]
    },
    {
      "cell_type": "markdown",
      "metadata": {},
      "source": [
        "Import the API and some other tools\n\n"
      ]
    },
    {
      "cell_type": "code",
      "execution_count": null,
      "metadata": {
        "collapsed": false
      },
      "outputs": [],
      "source": [
        "from brainglobe_atlasapi import BrainGlobeAtlas\nfrom pprint import pprint # to format printed data nicely\nimport numpy as np\nfrom matplotlib import pyplot as plt\nfrom matplotlib import colormaps as cm"
      ]
    },
    {
      "cell_type": "markdown",
      "metadata": {},
      "source": [
        "To know what atlases are available through BrainGlobe, we can use the `show_atlases` function\n(requires an internet connection):\n\n"
      ]
    },
    {
      "cell_type": "code",
      "execution_count": null,
      "metadata": {
        "collapsed": false
      },
      "outputs": [],
      "source": [
        "from brainglobe_atlasapi import show_atlases\nshow_atlases()"
      ]
    },
    {
      "cell_type": "markdown",
      "metadata": {},
      "source": [
        "## Creating a `BrainGlobeAtlas` object\nTo instantiate a `BrainGlobeAtlas` object, we call it with the atlas name. The first time we use it, the\nlatest version of the atlas files will be downloaded from the [remote GIN repository](http://gin.g-node.org/brainglobe/atlases)\nand stored on your local machine (by default, in `~/.brainglobe`):\n\n"
      ]
    },
    {
      "cell_type": "code",
      "execution_count": null,
      "metadata": {
        "collapsed": false
      },
      "outputs": [],
      "source": [
        "atlas = BrainGlobeAtlas(\"allen_mouse_100um\", check_latest=False)"
      ]
    },
    {
      "cell_type": "markdown",
      "metadata": {},
      "source": [
        ".. admonition:: Atlas quality\n  :class: note\n\n  Usually BrainGlobe only packages existing atlases. The quality of the underlying images and atlas ontology\n  relies on the original atlas data, and this can vary considerably. In this example, we choose the \"allen_mouse_100um\"\n  atlas, as it is relatively small, but high quality.\n\n"
      ]
    },
    {
      "cell_type": "markdown",
      "metadata": {},
      "source": [
        "## Using the atlas\nA BrainGlobe atlas is a convenient API for interacting with an anatomical atlas. BrainGlobe atlases contain:\n\n* Metadata\n* Reference anatomical stack\n* Region annotation stack\n* Hemisphere annotation stack\n* Description of the region hierarchy\n* Meshes for the regions\n\n"
      ]
    },
    {
      "cell_type": "markdown",
      "metadata": {},
      "source": [
        "## Metadata\nAll atlases have a standard set of metatata describing their source, species, resolution, etc:\n\n"
      ]
    },
    {
      "cell_type": "code",
      "execution_count": null,
      "metadata": {
        "collapsed": false
      },
      "outputs": [],
      "source": [
        "metadata = atlas.metadata\npprint(metadata)"
      ]
    },
    {
      "cell_type": "markdown",
      "metadata": {},
      "source": [
        "## Anatomical, annotation and hemispheres stacks\n\n"
      ]
    },
    {
      "cell_type": "markdown",
      "metadata": {},
      "source": [
        "Anatomical reference (or template) image:\n\n"
      ]
    },
    {
      "cell_type": "code",
      "execution_count": null,
      "metadata": {
        "collapsed": false
      },
      "outputs": [],
      "source": [
        "reference = atlas.reference\n\n# Get the middle section and plot\nmiddle_section = reference.shape[0] // 2\n\nplt.imshow(reference[middle_section,:,:], cmap='gray')"
      ]
    },
    {
      "cell_type": "markdown",
      "metadata": {},
      "source": [
        "Annotations stack\n\n"
      ]
    },
    {
      "cell_type": "code",
      "execution_count": null,
      "metadata": {
        "collapsed": false
      },
      "outputs": [],
      "source": [
        "annotation = atlas.annotation\n\n# Create a cyclic colormap due to the high values in the Allen atlas\nN = 512\ncolors = cm.get_cmap('tab20').resampled(N)\nlut = colors(np.arange(N))\n\n# Map label image to lookup table and plot\nplt.imshow(lut[annotation[middle_section,:,:] % N])"
      ]
    },
    {
      "cell_type": "markdown",
      "metadata": {},
      "source": [
        "Hemisheres stack:\n\n"
      ]
    },
    {
      "cell_type": "code",
      "execution_count": null,
      "metadata": {
        "collapsed": false
      },
      "outputs": [],
      "source": [
        "hemispheres = atlas.hemispheres\nplt.imshow(hemispheres[middle_section,:,:])"
      ]
    },
    {
      "cell_type": "markdown",
      "metadata": {},
      "source": [
        "## Regions hierarchy\n\n"
      ]
    },
    {
      "cell_type": "markdown",
      "metadata": {},
      "source": [
        "The atlas comes with the description of a hierarchy of brain structures. To see an overview:\n\n"
      ]
    },
    {
      "cell_type": "code",
      "execution_count": null,
      "metadata": {
        "collapsed": false
      },
      "outputs": [],
      "source": [
        "print(atlas.structures)"
      ]
    },
    {
      "cell_type": "markdown",
      "metadata": {},
      "source": [
        "The structures attribute is a custom dictionary that can be queried by region number or acronym, and contains all the information for a given structure:\n\n"
      ]
    },
    {
      "cell_type": "code",
      "execution_count": null,
      "metadata": {
        "collapsed": false
      },
      "outputs": [],
      "source": [
        "pprint(atlas.structures[\"root\"])"
      ]
    },
    {
      "cell_type": "markdown",
      "metadata": {},
      "source": [
        "In particular, the `structure_id_path` key contains a list description of the path in the hierarchy up to a particular region, and can be used for queries on the hierarchy.\n\n"
      ]
    },
    {
      "cell_type": "code",
      "execution_count": null,
      "metadata": {
        "collapsed": false
      },
      "outputs": [],
      "source": [
        "print(atlas.structures[\"CH\"][\"structure_id_path\"])"
      ]
    },
    {
      "cell_type": "markdown",
      "metadata": {},
      "source": [
        "We can use the `atlas.get_structure_descendants` and `atlas.get_structure_ancestors` methods to explore the hierarchy:\n\n"
      ]
    },
    {
      "cell_type": "code",
      "execution_count": null,
      "metadata": {
        "collapsed": false
      },
      "outputs": [],
      "source": [
        "atlas.get_structure_descendants(\"VISC\")"
      ]
    },
    {
      "cell_type": "code",
      "execution_count": null,
      "metadata": {
        "collapsed": false
      },
      "outputs": [],
      "source": [
        "atlas.get_structure_ancestors(\"VISC6a\")"
      ]
    },
    {
      "cell_type": "markdown",
      "metadata": {},
      "source": [
        "## Region masks\n\nSometimes, we might want to have the mask for a region that is not labelled in the annotation stack as all its voxels\nhave the number of some lower level parcellation in the hierarchy (concretely, if the brain is divided in hindbrain,\nmidbrain, and forebrain, `annotation == root_id` will be all False).\n\nTo get the mask for a region, use\n\n"
      ]
    },
    {
      "cell_type": "code",
      "execution_count": null,
      "metadata": {
        "collapsed": false
      },
      "outputs": [],
      "source": [
        "mask = atlas.get_structure_mask(997)\nplt.imshow(mask[middle_section,:,:], cmap=\"gray\")"
      ]
    },
    {
      "cell_type": "markdown",
      "metadata": {},
      "source": [
        "## Region meshes\n\n"
      ]
    },
    {
      "cell_type": "markdown",
      "metadata": {},
      "source": [
        "To access the 3D structure mesh for visualisation, this can be queried using the region ID or abbreviation. A `meshio.Mesh` object is returned.\n\n"
      ]
    },
    {
      "cell_type": "code",
      "execution_count": null,
      "metadata": {
        "collapsed": false
      },
      "outputs": [],
      "source": [
        "print(atlas.mesh_from_structure(\"CH\"))"
      ]
    },
    {
      "cell_type": "markdown",
      "metadata": {},
      "source": [
        "A list of regions can also be queried:\n\n"
      ]
    },
    {
      "cell_type": "code",
      "execution_count": null,
      "metadata": {
        "collapsed": false
      },
      "outputs": [],
      "source": [
        "pprint(atlas.mesh_from_structure([\"CH\", \"VISp\"]))"
      ]
    },
    {
      "cell_type": "markdown",
      "metadata": {},
      "source": [
        "The path can also be queried directly, if it's needed to be used within another library\n\n"
      ]
    },
    {
      "cell_type": "code",
      "execution_count": null,
      "metadata": {
        "collapsed": false
      },
      "outputs": [],
      "source": [
        "print(atlas.meshfile_from_structure(\"CH\"))"
      ]
    },
    {
      "cell_type": "markdown",
      "metadata": {},
      "source": [
        "## Querying the atlas\nA convenient feature of the `BrainGlobeAtlas` is being able to querying the identity of the\nstructure at a given location, either from stack indexes or atlas coordinates.\n\n"
      ]
    },
    {
      "cell_type": "markdown",
      "metadata": {},
      "source": [
        "Ask for identity of some indexes in the stack:\n\n"
      ]
    },
    {
      "cell_type": "code",
      "execution_count": null,
      "metadata": {
        "collapsed": false
      },
      "outputs": [],
      "source": [
        "print(atlas.structure_from_coords((50, 40, 30)))"
      ]
    },
    {
      "cell_type": "markdown",
      "metadata": {},
      "source": [
        "Now with coordinates in microns (and also returning the region acryonym):\n\n"
      ]
    },
    {
      "cell_type": "code",
      "execution_count": null,
      "metadata": {
        "collapsed": false
      },
      "outputs": [],
      "source": [
        "print(atlas.structure_from_coords((5000, 4000, 3000), microns=True, as_acronym=True))"
      ]
    },
    {
      "cell_type": "markdown",
      "metadata": {},
      "source": [
        "Query at a specific level of the hierarchy:\n\n"
      ]
    },
    {
      "cell_type": "code",
      "execution_count": null,
      "metadata": {
        "collapsed": false
      },
      "outputs": [],
      "source": [
        "print(atlas.structure_from_coords((5000, 4000, 3000), microns=True,  hierarchy_lev=2, as_acronym=True))"
      ]
    },
    {
      "cell_type": "markdown",
      "metadata": {},
      "source": [
        "## Querying the hemisphere\nA very similar method can be used for hemispheres. 0 correspond to outside the brain, and 1 and 2 to left and right\nhemispheres, but we can ask for the hemisphere name instead of the number:\n\n"
      ]
    },
    {
      "cell_type": "markdown",
      "metadata": {},
      "source": [
        "Ask for the hemisphere of some indexes in the stack:\n\n"
      ]
    },
    {
      "cell_type": "code",
      "execution_count": null,
      "metadata": {
        "collapsed": false
      },
      "outputs": [],
      "source": [
        "print(atlas.hemisphere_from_coords((50, 40, 30)))"
      ]
    },
    {
      "cell_type": "markdown",
      "metadata": {},
      "source": [
        "Now give coordinates in microns\n\n"
      ]
    },
    {
      "cell_type": "code",
      "execution_count": null,
      "metadata": {
        "collapsed": false
      },
      "outputs": [],
      "source": [
        "print(atlas.hemisphere_from_coords((5000, 4000, 3000), microns=True))"
      ]
    },
    {
      "cell_type": "markdown",
      "metadata": {},
      "source": [
        "Now print hemisphere string\n\n"
      ]
    },
    {
      "cell_type": "code",
      "execution_count": null,
      "metadata": {
        "collapsed": false
      },
      "outputs": [],
      "source": [
        "print(atlas.hemisphere_from_coords((5000, 4000, 3000), microns=True, as_string=True))"
      ]
    }
  ],
  "metadata": {
    "kernelspec": {
      "display_name": "Python 3",
      "language": "python",
      "name": "python3"
    },
    "language_info": {
      "codemirror_mode": {
        "name": "ipython",
        "version": 3
      },
      "file_extension": ".py",
      "mimetype": "text/x-python",
      "name": "python",
      "nbconvert_exporter": "python",
      "pygments_lexer": "ipython3",
      "version": "3.12.12"
    }
  },
  "nbformat": 4,
  "nbformat_minor": 0
}