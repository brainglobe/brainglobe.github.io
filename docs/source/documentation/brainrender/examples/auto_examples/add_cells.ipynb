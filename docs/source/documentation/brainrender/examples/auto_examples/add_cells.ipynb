{
  "cells": [
    {
      "cell_type": "markdown",
      "metadata": {},
      "source": [
        "\nadd_cells.py\n\nThis script demonstrates how to generate and visualize random labeled cells in a specific brain region using brainrender.\n\nExample:\n    Run this script to see labeled cells rendered in 3D space.\n\nFunctions:\n    - main(): Executes the visualization process.\n"
      ]
    },
    {
      "cell_type": "code",
      "execution_count": null,
      "metadata": {
        "collapsed": false
      },
      "outputs": [],
      "source": [
        "import random\nfrom pathlib import Path\n\nimport numpy as np\nfrom myterial import orange\nfrom rich import print\n\nfrom brainrender import Scene\nfrom brainrender.actors import Points\n\nprint(f\"[{orange}]Running example: {Path(__file__).name}\")\n\n\ndef get_n_random_points_in_region(region, N):\n    \"\"\"\n    Gets N random points inside (or on the surface) of a mes\n    \"\"\"\n\n    region_bounds = region.mesh.bounds()\n    X = np.random.randint(region_bounds[0], region_bounds[1], size=10000)\n    Y = np.random.randint(region_bounds[2], region_bounds[3], size=10000)\n    Z = np.random.randint(region_bounds[4], region_bounds[5], size=10000)\n    pts = [[x, y, z] for x, y, z in zip(X, Y, Z)]\n\n    ipts = region.mesh.inside_points(pts).coordinates\n    return np.vstack(random.choices(ipts, k=N))\n\n\nscene = Scene(title=\"Labelled cells\")\n\n# Get a numpy array with (fake) coordinates of some labelled cells\nmos = scene.add_brain_region(\"MOs\", alpha=0.15)\ncoordinates = get_n_random_points_in_region(mos, 2000)\n\n# Add to scene\nscene.add(Points(coordinates, name=\"CELLS\", colors=\"steelblue\"))\n\n# render\nscene.content\nscene.render()"
      ]
    }
  ],
  "metadata": {
    "kernelspec": {
      "display_name": "Python 3",
      "language": "python",
      "name": "python3"
    },
    "language_info": {
      "codemirror_mode": {
        "name": "ipython",
        "version": 3
      },
      "file_extension": ".py",
      "mimetype": "text/x-python",
      "name": "python",
      "nbconvert_exporter": "python",
      "pygments_lexer": "ipython3",
      "version": "3.10.0"
    }
  },
  "nbformat": 4,
  "nbformat_minor": 0
}